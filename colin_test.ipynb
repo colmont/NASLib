{
 "cells": [
  {
   "cell_type": "code",
   "execution_count": 1,
   "metadata": {},
   "outputs": [
    {
     "name": "stdout",
     "output_type": "stream",
     "text": [
      "label_index:  0\n",
      "label_index:  1\n",
      "label_index:  0\n",
      "label_index:  1\n",
      "label_index:  0\n",
      "label_index:  1\n",
      "label_index:  0\n",
      "label_index:  1\n",
      "label_index:  1\n",
      "label_index:  1\n",
      "label_index:  1\n"
     ]
    }
   ],
   "source": [
    "from matplotlib import pyplot as plt\n",
    "import networkx as nx\n",
    "\n",
    "def initialize_label_counters(n):\n",
    "    label_counters = {}\n",
    "    for label_index in range(n):\n",
    "        label_counters[label_index] = 0\n",
    "    return label_counters\n",
    "\n",
    "def map_node(node, label_counters, old_graph):\n",
    "    label_index = old_graph.nodes[node]['label']\n",
    "    print(\"label_index: \", label_index)\n",
    "    mapped_node = label_index * m + label_counters[label_index]\n",
    "    label_counters[label_index] += 1\n",
    "    return mapped_node\n",
    "\n",
    "def create_new_graph(old_graph, n, m):\n",
    "    # Step 1: Initialize a new graph with m*n nodes\n",
    "    new_graph = nx.DiGraph()\n",
    "    new_graph.add_nodes_from(range(m * n))\n",
    "\n",
    "    # Initialize a counter for each label\n",
    "    label_counters = initialize_label_counters(n)\n",
    "\n",
    "    # Step 2: Iterate through each node of the old graph\n",
    "    for node in old_graph.nodes():\n",
    "\n",
    "        # Map it to a specific section in the new graph\n",
    "        mapped_node = map_node(node, label_counters, old_graph)\n",
    "\n",
    "        # Step 3: Connect the mapped nodes in the new graph\n",
    "        # the same way they were connected in the old graph\n",
    "        for neighbor in old_graph.neighbors(node):\n",
    "            # Get the mapped neighbor\n",
    "            mapped_neighbor = map_node(neighbor, label_counters, old_graph)\n",
    "            # Connect the mapped_node and mapped_neighbor in new_graph\n",
    "            new_graph.add_edge(mapped_node, mapped_neighbor)\n",
    "\n",
    "    return new_graph\n",
    "\n",
    "# Example usage:\n",
    "old_graph = nx.DiGraph()\n",
    "old_graph.add_nodes_from([0, 1, 2, 3], label=0)  # Green nodes\n",
    "old_graph.add_nodes_from([4, 5, 6, 7], label=1)  # Red nodes\n",
    "old_graph.add_edge(0, 4)\n",
    "old_graph.add_edge(1, 5)\n",
    "old_graph.add_edge(2, 6)\n",
    "\n",
    "n = 3  # Two types of labels: green and red\n",
    "m = 4  # Maximum of 4 nodes per label\n",
    "\n",
    "new_graph = create_new_graph(old_graph, n, m)\n",
    "\n",
    "# The new_graph will have nodes from 0 to 7 as green nodes, and nodes from 8 to 15 as red nodes.\n",
    "# The connections in the new_graph will be the same as in the old_graph."
   ]
  },
  {
   "cell_type": "code",
   "execution_count": 2,
   "metadata": {},
   "outputs": [
    {
     "name": "stdout",
     "output_type": "stream",
     "text": [
      "[0, 1, 2, 3, 4, 5, 6, 7, 8, 9, 10, 11]\n"
     ]
    }
   ],
   "source": [
    "print(new_graph.nodes())"
   ]
  },
  {
   "cell_type": "code",
   "execution_count": 3,
   "metadata": {},
   "outputs": [
    {
     "ename": "NameError",
     "evalue": "name 'old_graph' is not defined",
     "output_type": "error",
     "traceback": [
      "\u001b[0;31m---------------------------------------------------------------------------\u001b[0m",
      "\u001b[0;31mNameError\u001b[0m                                 Traceback (most recent call last)",
      "\u001b[0;32m/var/folders/z9/c7h07wr544jdchl5xb1cvffm0000gq/T/ipykernel_71851/4211396465.py\u001b[0m in \u001b[0;36m<module>\u001b[0;34m\u001b[0m\n\u001b[1;32m      9\u001b[0m \u001b[0;34m\u001b[0m\u001b[0m\n\u001b[1;32m     10\u001b[0m \u001b[0;31m# Visualize the original graph\u001b[0m\u001b[0;34m\u001b[0m\u001b[0;34m\u001b[0m\u001b[0;34m\u001b[0m\u001b[0m\n\u001b[0;32m---> 11\u001b[0;31m \u001b[0mvisualize_graph\u001b[0m\u001b[0;34m(\u001b[0m\u001b[0mold_graph\u001b[0m\u001b[0;34m,\u001b[0m \u001b[0;34m\"Original Graph\"\u001b[0m\u001b[0;34m)\u001b[0m\u001b[0;34m\u001b[0m\u001b[0;34m\u001b[0m\u001b[0m\n\u001b[0m\u001b[1;32m     12\u001b[0m \u001b[0;34m\u001b[0m\u001b[0m\n\u001b[1;32m     13\u001b[0m \u001b[0;31m# Align the graph and visualize the aligned graph\u001b[0m\u001b[0;34m\u001b[0m\u001b[0;34m\u001b[0m\u001b[0;34m\u001b[0m\u001b[0m\n",
      "\u001b[0;31mNameError\u001b[0m: name 'old_graph' is not defined"
     ]
    }
   ],
   "source": [
    "\n",
    "def visualize_graph(graph, title):\n",
    "    pos = nx.spring_layout(graph)\n",
    "    labels = {node: label for node, label in graph.nodes(data='label')}\n",
    "    plt.figure(figsize=(8, 6))\n",
    "    nx.draw_networkx(graph, pos, labels=labels, with_labels=True, node_color='lightblue', node_size=500, font_size=12, font_color='black')\n",
    "    plt.title(title)\n",
    "    plt.axis('off')\n",
    "    plt.show()\n",
    "\n",
    "# Visualize the original graph\n",
    "visualize_graph(old_graph, \"Original Graph\")\n",
    "\n",
    "# Align the graph and visualize the aligned graph\n",
    "visualize_graph(new_graph, \"Aligned Graph\")\n"
   ]
  },
  {
   "cell_type": "code",
   "execution_count": 12,
   "metadata": {},
   "outputs": [
    {
     "name": "stdout",
     "output_type": "stream",
     "text": [
      "2.0\n"
     ]
    }
   ],
   "source": [
    "import networkx as nx\n",
    "\n",
    "def graph_edit_distance(graph1, graph2):\n",
    "    # Calculate the graph edit distance\n",
    "    distance = nx.algorithms.graph_edit_distance(graph1, graph2)\n",
    "\n",
    "    return distance\n",
    "\n",
    "# Example usage\n",
    "graph1 = nx.DiGraph([(1, 2), (2, 3), (3, 4)])\n",
    "graph2 = nx.DiGraph([(1, 3), (2, 3), (3, 4), (4, 5)])\n",
    "\n",
    "distance = graph_edit_distance(graph1, graph2)\n",
    "print(distance)\n"
   ]
  },
  {
   "cell_type": "code",
   "execution_count": 23,
   "metadata": {},
   "outputs": [
    {
     "name": "stdout",
     "output_type": "stream",
     "text": [
      "[1, 2, 3, 4]\n",
      "[[0 1 0 0]\n",
      " [0 0 1 0]\n",
      " [0 0 0 1]\n",
      " [0 0 0 0]]\n",
      "[[0 0 1 0]\n",
      " [0 0 1 0]\n",
      " [0 0 0 1]\n",
      " [0 0 0 0]]\n",
      "2\n"
     ]
    }
   ],
   "source": [
    "import numpy as np\n",
    "\n",
    "def differing_bits(graph1, graph2):\n",
    "    # Convert graphs to adjacency matrices as NumPy arrays with integer data type\n",
    "    nodelist1 = list(graph1.nodes())\n",
    "    nodelist1.sort()\n",
    "    adj_matrix1 = nx.to_numpy_array(graph1, dtype=int, nodelist=nodelist1)\n",
    "    nodelist2 = list(graph2.nodes())\n",
    "    nodelist2.sort()\n",
    "    print(nodelist2)\n",
    "    adj_matrix2 = nx.to_numpy_array(graph2, dtype=int, nodelist=nodelist2)\n",
    "\n",
    "    print(adj_matrix1)\n",
    "    print(adj_matrix2)\n",
    "    \n",
    "    # Compute the differing bits\n",
    "    diff_bits = np.bitwise_xor(adj_matrix1, adj_matrix2).sum()\n",
    "\n",
    "    return int(diff_bits)\n",
    "\n",
    "# Example usage\n",
    "graph1 = nx.DiGraph([(1, 2), (2, 3), (3, 4)])\n",
    "graph2 = nx.DiGraph([(1, 3), (2, 3), (3, 4)])\n",
    "\n",
    "diff_bits = differing_bits(graph1, graph2)\n",
    "print(diff_bits)"
   ]
  },
  {
   "cell_type": "code",
   "execution_count": 21,
   "metadata": {},
   "outputs": [
    {
     "name": "stdout",
     "output_type": "stream",
     "text": [
      "[1, 3, 2, 4]\n"
     ]
    }
   ],
   "source": [
    "print(graph2.nodes())"
   ]
  },
  {
   "cell_type": "code",
   "execution_count": 14,
   "metadata": {},
   "outputs": [
    {
     "data": {
      "image/png": "[encoded data removed]",
      "text/plain": [
       "<Figure size 800x600 with 1 Axes>"
      ]
     },
     "metadata": {},
     "output_type": "display_data"
    }
   ],
   "source": [
    "from matplotlib import pyplot as plt\n",
    "visualize_graph(graph1, \"Original Graph\")"
   ]
  },
  {
   "cell_type": "code",
   "execution_count": 8,
   "metadata": {},
   "outputs": [
    {
     "name": "stdout",
     "output_type": "stream",
     "text": [
      "x1x2y1y2z1z2\n",
      "x1x2y1y2z2z1\n",
      "x1x2y2y1z1z2\n",
      "x1x2y2y1z2z1\n",
      "x2x1y1y2z1z2\n",
      "x2x1y1y2z2z1\n",
      "x2x1y2y1z1z2\n",
      "x2x1y2y1z2z1\n",
      "Total number of permutations:  8\n"
     ]
    }
   ],
   "source": [
    "from itertools import permutations, product\n",
    "\n",
    "def generate_permutations(groups):\n",
    "    # For each group, generate all permutations\n",
    "    permuted_groups = [list(permutations(group)) for group in groups]\n",
    "\n",
    "    # Generate all combinations of permutations from each group\n",
    "    output = []\n",
    "    for permutation_product in product(*permuted_groups):\n",
    "        output.append(''.join([''.join(permutation) for permutation in permutation_product]))\n",
    "\n",
    "    return output\n",
    "\n",
    "# Define your groups\n",
    "\n",
    "groups = [['x1', 'x2'], ['y1', 'y2'], ['z1', 'z2']]  # Here, n=3 (number of groups) and m=2 (size of each group)\n",
    "\n",
    "# Get all permutations\n",
    "all_permutations = generate_permutations(groups)\n",
    "\n",
    "# Print all permutations\n",
    "counter = 0\n",
    "for perm in all_permutations:\n",
    "    print(perm)\n",
    "    counter += 1\n",
    "print(\"Total number of permutations: \", counter)\n"
   ]
  },
  {
   "cell_type": "code",
   "execution_count": 7,
   "metadata": {},
   "outputs": [
    {
     "name": "stdout",
     "output_type": "stream",
     "text": [
      "{'x1': 'x1', 'x2': 'x2', 'x3': 'x3', 'x4': 'x4', 'x5': 'x5', 'x6': 'x6'}\n",
      "{'x1': 'x1', 'x2': 'x2', 'x3': 'x3', 'x4': 'x4', 'x5': 'x6', 'x6': 'x5'}\n",
      "{'x1': 'x1', 'x2': 'x2', 'x3': 'x4', 'x4': 'x3', 'x5': 'x5', 'x6': 'x6'}\n",
      "{'x1': 'x1', 'x2': 'x2', 'x3': 'x4', 'x4': 'x3', 'x5': 'x6', 'x6': 'x5'}\n",
      "{'x1': 'x2', 'x2': 'x1', 'x3': 'x3', 'x4': 'x4', 'x5': 'x5', 'x6': 'x6'}\n",
      "{'x1': 'x2', 'x2': 'x1', 'x3': 'x3', 'x4': 'x4', 'x5': 'x6', 'x6': 'x5'}\n",
      "{'x1': 'x2', 'x2': 'x1', 'x3': 'x4', 'x4': 'x3', 'x5': 'x5', 'x6': 'x6'}\n",
      "{'x1': 'x2', 'x2': 'x1', 'x3': 'x4', 'x4': 'x3', 'x5': 'x6', 'x6': 'x5'}\n"
     ]
    }
   ],
   "source": [
    "from itertools import permutations, product\n",
    "\n",
    "def generate_permutations(groups):\n",
    "    # Generate all permutations of each group\n",
    "    permuted_groups = [list(permutations(group)) for group in groups]\n",
    "\n",
    "    # Create a list of dictionaries, each representing a permutation\n",
    "    output = []\n",
    "    for permutation_product in product(*permuted_groups):\n",
    "        perm_dict = {}\n",
    "        for original_group, permuted_group in zip(groups, permutation_product):\n",
    "            perm_dict.update(dict(zip(original_group, permuted_group)))\n",
    "        output.append(perm_dict)\n",
    "\n",
    "    return output\n",
    "\n",
    "# Define your variables\n",
    "x1, x2 = \"x1\", \"x2\"\n",
    "y1, y2 = \"x3\", \"x4\"\n",
    "z1, z2 = \"x5\", \"x6\"\n",
    "\n",
    "# Define your groups\n",
    "groups = [[x1, x2], [y1, y2], [z1, z2]]\n",
    "\n",
    "# Generate all permutations\n",
    "all_permutations = generate_permutations(groups)\n",
    "\n",
    "# Print all permutations\n",
    "for perm in all_permutations:\n",
    "    print(perm)"
   ]
  },
  {
   "cell_type": "code",
   "execution_count": 10,
   "metadata": {},
   "outputs": [
    {
     "name": "stdout",
     "output_type": "stream",
     "text": [
      "[[0, 1, 2], [3, 4, 5], [6, 7, 8], [9, 10, 11]]\n"
     ]
    }
   ],
   "source": [
    "def generate_groups(n, m):\n",
    "    # Generate the numbers from 0 to n*m\n",
    "    numbers = list(range(n*m))\n",
    "\n",
    "    # Split the numbers into groups\n",
    "    groups = [numbers[i:i+m] for i in range(0, len(numbers), m)]\n",
    "\n",
    "    return groups\n",
    "\n",
    "# Example usage\n",
    "groups = generate_groups(4, 3)\n",
    "print(groups)"
   ]
  },
  {
   "cell_type": "code",
   "execution_count": 12,
   "metadata": {},
   "outputs": [
    {
     "name": "stdout",
     "output_type": "stream",
     "text": [
      "[{0: 0, 1: 1, 2: 2, 3: 3, 4: 4, 5: 5}, {0: 0, 1: 1, 2: 2, 3: 3, 4: 5, 5: 4}, {0: 0, 1: 1, 2: 3, 3: 2, 4: 4, 5: 5}, {0: 0, 1: 1, 2: 3, 3: 2, 4: 5, 5: 4}, {0: 1, 1: 0, 2: 2, 3: 3, 4: 4, 5: 5}, {0: 1, 1: 0, 2: 2, 3: 3, 4: 5, 5: 4}, {0: 1, 1: 0, 2: 3, 3: 2, 4: 4, 5: 5}, {0: 1, 1: 0, 2: 3, 3: 2, 4: 5, 5: 4}]\n"
     ]
    }
   ],
   "source": [
    "from itertools import permutations, product\n",
    "\n",
    "def generate_groups(n, m):\n",
    "    # Generate the numbers from 0 to n*m\n",
    "    numbers = list(range(n*m))\n",
    "\n",
    "    # Split the numbers into groups\n",
    "    groups = [numbers[i:i+m] for i in range(0, len(numbers), m)]\n",
    "\n",
    "    return groups\n",
    "\n",
    "def generate_permutations(n, m):\n",
    "    # Generate the groups\n",
    "    groups = generate_groups(n, m)\n",
    "\n",
    "    # Generate all permutations of each group\n",
    "    permuted_groups = [list(permutations(group)) for group in groups]\n",
    "\n",
    "    # Create a list of dictionaries, each representing a permutation\n",
    "    output = []\n",
    "    for permutation_product in product(*permuted_groups):\n",
    "        perm_dict = {}\n",
    "        for original_group, permuted_group in zip(groups, permutation_product):\n",
    "            perm_dict.update(dict(zip(original_group, permuted_group)))\n",
    "        output.append(perm_dict)\n",
    "\n",
    "    return output\n",
    "\n",
    "# Define your parameters\n",
    "n, m = 3, 2\n",
    "\n",
    "# Generate all permutations\n",
    "all_permutations = generate_permutations(n, m)\n",
    "\n",
    "# # Print all permutations\n",
    "# for perm in all_permutations:\n",
    "#     print(perm)\n",
    "\n",
    "print(all_permutations)"
   ]
  },
  {
   "cell_type": "code",
   "execution_count": null,
   "metadata": {},
   "outputs": [],
   "source": []
  }
 ],
 "metadata": {
  "kernelspec": {
   "display_name": "naslib",
   "language": "python",
   "name": "python3"
  },
  "language_info": {
   "codemirror_mode": {
    "name": "ipython",
    "version": 3
   },
   "file_extension": ".py",
   "mimetype": "text/x-python",
   "name": "python",
   "nbconvert_exporter": "python",
   "pygments_lexer": "ipython3",
   "version": "3.7.16"
  },
  "orig_nbformat": 4
 },
 "nbformat": 4,
 "nbformat_minor": 2
}
